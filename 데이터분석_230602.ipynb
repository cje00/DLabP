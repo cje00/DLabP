{
 "cells": [
  {
   "cell_type": "code",
   "execution_count": 2,
   "id": "e72a7927",
   "metadata": {},
   "outputs": [
    {
     "data": {
      "text/plain": [
       "'1.2.4'"
      ]
     },
     "execution_count": 2,
     "metadata": {},
     "output_type": "execute_result"
    }
   ],
   "source": [
    "import pandas as pd\n",
    "pd.__version__\n"
   ]
  },
  {
   "cell_type": "code",
   "execution_count": 3,
   "id": "af8c3415",
   "metadata": {},
   "outputs": [],
   "source": [
    "import numpy as np"
   ]
  },
  {
   "cell_type": "code",
   "execution_count": 4,
   "id": "752bd9fd",
   "metadata": {},
   "outputs": [
    {
     "data": {
      "text/plain": [
       "'1.2.4'"
      ]
     },
     "execution_count": 4,
     "metadata": {},
     "output_type": "execute_result"
    }
   ],
   "source": [
    "pd.__version__"
   ]
  },
  {
   "cell_type": "code",
   "execution_count": 5,
   "id": "8bee64e8",
   "metadata": {},
   "outputs": [
    {
     "data": {
      "text/plain": [
       "array([[9, 4, 4],\n",
       "       [8, 7, 7]])"
      ]
     },
     "execution_count": 5,
     "metadata": {},
     "output_type": "execute_result"
    }
   ],
   "source": [
    "matrix = np.random.randint(1,10,(2,3))\n",
    "matrix"
   ]
  },
  {
   "cell_type": "code",
   "execution_count": 8,
   "id": "f4e13caa",
   "metadata": {},
   "outputs": [
    {
     "data": {
      "text/plain": [
       "array([[9, 8],\n",
       "       [4, 7],\n",
       "       [4, 7]])"
      ]
     },
     "execution_count": 8,
     "metadata": {},
     "output_type": "execute_result"
    }
   ],
   "source": [
    "matrix.T   # transpose "
   ]
  },
  {
   "cell_type": "code",
   "execution_count": 6,
   "id": "7e3cd492",
   "metadata": {},
   "outputs": [
    {
     "data": {
      "text/plain": [
       "array([9, 4, 4, 8, 7, 7])"
      ]
     },
     "execution_count": 6,
     "metadata": {},
     "output_type": "execute_result"
    }
   ],
   "source": [
    "matrix.ravel()"
   ]
  },
  {
   "cell_type": "code",
   "execution_count": 7,
   "id": "56299796",
   "metadata": {},
   "outputs": [
    {
     "data": {
      "text/plain": [
       "array([[9, 4, 4],\n",
       "       [8, 7, 7]])"
      ]
     },
     "execution_count": 7,
     "metadata": {},
     "output_type": "execute_result"
    }
   ],
   "source": [
    "matrix.reshape(2,3)"
   ]
  },
  {
   "cell_type": "code",
   "execution_count": null,
   "id": "28324cfa",
   "metadata": {},
   "outputs": [],
   "source": [
    "# resize vs. reshape\n",
    "\n",
    "# reshize 에서 추가 요소는 0으로 채워진다\n",
    "\n"
   ]
  },
  {
   "cell_type": "code",
   "execution_count": 10,
   "id": "e93c08b0",
   "metadata": {},
   "outputs": [
    {
     "data": {
      "text/plain": [
       "array([[8, 2, 8, 8, 6, 5],\n",
       "       [6, 6, 8, 5, 1, 4]])"
      ]
     },
     "execution_count": 10,
     "metadata": {},
     "output_type": "execute_result"
    }
   ],
   "source": [
    "a = np.random.randint(1,10,(2,6))\n",
    "a"
   ]
  },
  {
   "cell_type": "code",
   "execution_count": 11,
   "id": "b04312fc",
   "metadata": {},
   "outputs": [
    {
     "data": {
      "text/plain": [
       "array([[8, 2],\n",
       "       [8, 8],\n",
       "       [6, 5],\n",
       "       [6, 6],\n",
       "       [8, 5],\n",
       "       [1, 4]])"
      ]
     },
     "execution_count": 11,
     "metadata": {},
     "output_type": "execute_result"
    }
   ],
   "source": [
    "a.resize(6,2)\n",
    "a"
   ]
  },
  {
   "cell_type": "code",
   "execution_count": 16,
   "id": "8584e521",
   "metadata": {},
   "outputs": [
    {
     "data": {
      "text/plain": [
       "array([[3, 3, 3, 6, 5, 3, 3, 9, 9, 4],\n",
       "       [8, 7, 0, 0, 0, 0, 0, 0, 0, 0]])"
      ]
     },
     "execution_count": 16,
     "metadata": {},
     "output_type": "execute_result"
    }
   ],
   "source": [
    "b = np.random.randint(1,10,(2,6))\n",
    "# 추가요소는 0으로 채워짐 \n",
    "b.resize((2,10))\n",
    "b"
   ]
  },
  {
   "cell_type": "code",
   "execution_count": 15,
   "id": "97a8e8ed",
   "metadata": {},
   "outputs": [
    {
     "data": {
      "text/plain": [
       "array([[1, 8, 4],\n",
       "       [2, 1, 6],\n",
       "       [7, 1, 3]])"
      ]
     },
     "execution_count": 15,
     "metadata": {},
     "output_type": "execute_result"
    }
   ],
   "source": [
    "# 요소가 12개에서 9개로 줄어듬\n",
    "c = np.random.randint(1,10,(2,6))\n",
    "c.resize((3,3))\n",
    "c"
   ]
  },
  {
   "cell_type": "code",
   "execution_count": null,
   "id": "7319a492",
   "metadata": {},
   "outputs": [],
   "source": [
    "# append : 배열의 끝에 값 추가 value or 배열 추가 \n",
    "# axis = 1 -> 열방향 추가\n",
    "# axis = 0 -> 행방향 추가 \n"
   ]
  },
  {
   "cell_type": "code",
   "execution_count": 18,
   "id": "73fa358e",
   "metadata": {},
   "outputs": [
    {
     "name": "stdout",
     "output_type": "stream",
     "text": [
      "a= [[1 2 3]\n",
      " [4 5 6]\n",
      " [7 8 9]]\n",
      "b= [[10 11 12]\n",
      " [13 14 15]\n",
      " [16 17 18]]\n"
     ]
    }
   ],
   "source": [
    "ap_a = np.arange(1,10).reshape(3,3)\n",
    "print('a=', ap_a)\n",
    "ap_b = np.arange(10,19).reshape(3,3)\n",
    "print('b=', ap_b)"
   ]
  },
  {
   "cell_type": "code",
   "execution_count": 20,
   "id": "eb6c52db",
   "metadata": {},
   "outputs": [
    {
     "name": "stdout",
     "output_type": "stream",
     "text": [
      "[ 1  2  3  4  5  6  7  8  9 10 11 12 13 14 15 16 17 18]\n"
     ]
    }
   ],
   "source": [
    "# no axis defined\n",
    "result1 = np.append(ap_a, ap_b)\n",
    "print(result1)"
   ]
  },
  {
   "cell_type": "code",
   "execution_count": 22,
   "id": "a8262b34",
   "metadata": {},
   "outputs": [
    {
     "name": "stdout",
     "output_type": "stream",
     "text": [
      "[[ 1  2  3 10 11 12]\n",
      " [ 4  5  6 13 14 15]\n",
      " [ 7  8  9 16 17 18]]\n"
     ]
    }
   ],
   "source": [
    "# axis = 1   열방향 추가 \n",
    "result2 = np.append(ap_a, ap_b, axis = 1)\n",
    "print(result2)"
   ]
  },
  {
   "cell_type": "code",
   "execution_count": 25,
   "id": "b424c6cc",
   "metadata": {},
   "outputs": [
    {
     "name": "stdout",
     "output_type": "stream",
     "text": [
      "[[ 1  2  3]\n",
      " [ 4  5  6]\n",
      " [ 7  8  9]\n",
      " [10 11 12]\n",
      " [13 14 15]\n",
      " [16 17 18]]\n"
     ]
    }
   ],
   "source": [
    "# axis = 0  행방향 추가 \n",
    "result3 = np.append(ap_a, ap_b, axis = 0)\n",
    "print(result3)"
   ]
  },
  {
   "cell_type": "code",
   "execution_count": 26,
   "id": "ad78063c",
   "metadata": {},
   "outputs": [
    {
     "name": "stdout",
     "output_type": "stream",
     "text": [
      "[[1 2 3]\n",
      " [4 5 6]\n",
      " [7 8 9]]\n"
     ]
    }
   ],
   "source": [
    "# insert\n",
    "ins_a = np.arange(1,10).reshape(3,3)\n",
    "print(ins_a)\n"
   ]
  },
  {
   "cell_type": "code",
   "execution_count": 27,
   "id": "512875df",
   "metadata": {},
   "outputs": [
    {
     "data": {
      "text/plain": [
       "array([  1,   2,   3,   4, 999,   5,   6,   7,   8,   9])"
      ]
     },
     "execution_count": 27,
     "metadata": {},
     "output_type": "execute_result"
    }
   ],
   "source": [
    "np.insert(ins_a, 4, 999)"
   ]
  },
  {
   "cell_type": "code",
   "execution_count": 28,
   "id": "55f02483",
   "metadata": {},
   "outputs": [
    {
     "data": {
      "text/plain": [
       "array([[  1,   2,   3],\n",
       "       [999, 999, 999],\n",
       "       [  4,   5,   6],\n",
       "       [  7,   8,   9]])"
      ]
     },
     "execution_count": 28,
     "metadata": {},
     "output_type": "execute_result"
    }
   ],
   "source": [
    "np.insert(ins_a, 1, 999, axis = 0)"
   ]
  },
  {
   "cell_type": "code",
   "execution_count": null,
   "id": "2a13351f",
   "metadata": {},
   "outputs": [],
   "source": [
    "np.insert(lins, )"
   ]
  },
  {
   "cell_type": "code",
   "execution_count": 29,
   "id": "00e08404",
   "metadata": {},
   "outputs": [
    {
     "name": "stdout",
     "output_type": "stream",
     "text": [
      "[[1 2 3]\n",
      " [4 5 6]\n",
      " [7 8 9]]\n"
     ]
    }
   ],
   "source": [
    "# delete\n",
    "del_a = np.arange(1,10).reshape(3,3)\n",
    "print(del_a)"
   ]
  },
  {
   "cell_type": "code",
   "execution_count": 31,
   "id": "4923032d",
   "metadata": {},
   "outputs": [
    {
     "data": {
      "text/plain": [
       "array([1, 3, 4, 5, 6, 7, 8, 9])"
      ]
     },
     "execution_count": 31,
     "metadata": {},
     "output_type": "execute_result"
    }
   ],
   "source": [
    "np.delete(del_a,1)"
   ]
  },
  {
   "cell_type": "code",
   "execution_count": 32,
   "id": "8bcd97c3",
   "metadata": {},
   "outputs": [
    {
     "data": {
      "text/plain": [
       "array([[1, 2, 3],\n",
       "       [4, 5, 6]])"
      ]
     },
     "execution_count": 32,
     "metadata": {},
     "output_type": "execute_result"
    }
   ],
   "source": [
    "np.delete(del_a, 2, axis = 0)"
   ]
  },
  {
   "cell_type": "code",
   "execution_count": 33,
   "id": "2ffb1a26",
   "metadata": {},
   "outputs": [
    {
     "data": {
      "text/plain": [
       "array([[1, 3],\n",
       "       [4, 6],\n",
       "       [7, 9]])"
      ]
     },
     "execution_count": 33,
     "metadata": {},
     "output_type": "execute_result"
    }
   ],
   "source": [
    "np.delete(del_a, 1, axis = 1)"
   ]
  },
  {
   "cell_type": "code",
   "execution_count": null,
   "id": "2a103d93",
   "metadata": {},
   "outputs": [],
   "source": []
  }
 ],
 "metadata": {
  "kernelspec": {
   "display_name": "Python 3",
   "language": "python",
   "name": "python3"
  },
  "language_info": {
   "codemirror_mode": {
    "name": "ipython",
    "version": 3
   },
   "file_extension": ".py",
   "mimetype": "text/x-python",
   "name": "python",
   "nbconvert_exporter": "python",
   "pygments_lexer": "ipython3",
   "version": "3.8.8"
  }
 },
 "nbformat": 4,
 "nbformat_minor": 5
}
