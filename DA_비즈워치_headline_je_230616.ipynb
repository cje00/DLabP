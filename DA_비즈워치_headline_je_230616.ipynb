{
 "cells": [
  {
   "cell_type": "markdown",
   "id": "a242aeab",
   "metadata": {},
   "source": [
    "## 비즈워치 뉴스 헤드라인 -> 표로 만들기 "
   ]
  },
  {
   "cell_type": "markdown",
   "id": "c53cbf7c",
   "metadata": {},
   "source": [
    "(방법1) 리스트를 만들어서 데이터 프레임으로 전환\n",
    "(방법2) 시리즈로 데이터 프레임 만들기"
   ]
  },
  {
   "cell_type": "markdown",
   "id": "867cb825",
   "metadata": {},
   "source": [
    "비즈워치\n",
    "https://media.naver.com/press/648\n",
    "\n",
    "코드를 보기 좋게 \n",
    "https://beautifier.io/?without-codemirror"
   ]
  },
  {
   "cell_type": "markdown",
   "id": "55ae6df5",
   "metadata": {},
   "source": [
    "from bs4 import BeautifulSoup\n",
    "\n",
    "from urllib.request import urlopen\n",
    "\n",
    "import pandas as pd\n",
    "\n",
    "import json as json"
   ]
  },
  {
   "cell_type": "code",
   "execution_count": 70,
   "id": "d4758049",
   "metadata": {},
   "outputs": [],
   "source": [
    "from bs4 import BeautifulSoup\n",
    "from urllib.request import urlopen\n",
    "import pandas as pd\n",
    "import json as json"
   ]
  },
  {
   "cell_type": "markdown",
   "id": "65ec3bb3",
   "metadata": {},
   "source": [
    "! pip install selenium\n",
    "\n",
    "from selenium import webdriver"
   ]
  },
  {
   "cell_type": "code",
   "execution_count": 71,
   "id": "4a211417",
   "metadata": {},
   "outputs": [
    {
     "name": "stdout",
     "output_type": "stream",
     "text": [
      "Requirement already satisfied: selenium in c:\\users\\user\\appdata\\roaming\\python\\python38\\site-packages (4.9.1)\n",
      "Requirement already satisfied: urllib3[socks]<3,>=1.26 in c:\\programdata\\anaconda3\\lib\\site-packages (from selenium) (1.26.4)\n",
      "Requirement already satisfied: trio-websocket~=0.9 in c:\\programdata\\anaconda3\\lib\\site-packages (from selenium) (0.10.2)\n",
      "Requirement already satisfied: trio~=0.17 in c:\\programdata\\anaconda3\\lib\\site-packages (from selenium) (0.22.0)\n",
      "Requirement already satisfied: certifi>=2021.10.8 in c:\\users\\user\\appdata\\roaming\\python\\python38\\site-packages (from selenium) (2023.5.7)\n",
      "Requirement already satisfied: cffi>=1.14 in c:\\programdata\\anaconda3\\lib\\site-packages (from trio~=0.17->selenium) (1.14.5)\n",
      "Requirement already satisfied: idna in c:\\programdata\\anaconda3\\lib\\site-packages (from trio~=0.17->selenium) (2.10)\n",
      "Requirement already satisfied: sniffio in c:\\programdata\\anaconda3\\lib\\site-packages (from trio~=0.17->selenium) (1.2.0)\n",
      "Requirement already satisfied: attrs>=19.2.0 in c:\\programdata\\anaconda3\\lib\\site-packages (from trio~=0.17->selenium) (20.3.0)\n",
      "Requirement already satisfied: sortedcontainers in c:\\programdata\\anaconda3\\lib\\site-packages (from trio~=0.17->selenium) (2.3.0)\n",
      "Requirement already satisfied: exceptiongroup>=1.0.0rc9 in c:\\programdata\\anaconda3\\lib\\site-packages (from trio~=0.17->selenium) (1.1.1)\n",
      "Requirement already satisfied: async-generator>=1.9 in c:\\programdata\\anaconda3\\lib\\site-packages (from trio~=0.17->selenium) (1.10)\n",
      "Requirement already satisfied: outcome in c:\\programdata\\anaconda3\\lib\\site-packages (from trio~=0.17->selenium) (1.2.0)\n",
      "Requirement already satisfied: pycparser in c:\\programdata\\anaconda3\\lib\\site-packages (from cffi>=1.14->trio~=0.17->selenium) (2.20)\n",
      "Requirement already satisfied: wsproto>=0.14 in c:\\programdata\\anaconda3\\lib\\site-packages (from trio-websocket~=0.9->selenium) (1.2.0)\n",
      "Requirement already satisfied: PySocks!=1.5.7,<2.0,>=1.5.6 in c:\\programdata\\anaconda3\\lib\\site-packages (from urllib3[socks]<3,>=1.26->selenium) (1.7.1)\n",
      "Requirement already satisfied: h11<1,>=0.9.0 in c:\\programdata\\anaconda3\\lib\\site-packages (from wsproto>=0.14->trio-websocket~=0.9->selenium) (0.14.0)\n"
     ]
    }
   ],
   "source": [
    "! pip install selenium\n",
    "from selenium import webdriver"
   ]
  },
  {
   "cell_type": "markdown",
   "id": "903a9a9f",
   "metadata": {},
   "source": [
    "* 웹 드라이버 불러오는 코드 수정버전:\n",
    "from selenium.webdriver.chrome.options import Options\n",
    "from selenium.webdriver.chrome.service import Service\n",
    "driver=webdriver.Chrome(options=Options(), service=Service('C:/Users/thkim/Downloads/chromedriver_win32'))\n",
    "\n",
    "* C:\\Users\\user\\Documents\\je-download\\chromedriver_win32\n",
    "driver = webdriver.Chrome('C:/Users/user/Documents/je-download/chromedriver_win32')"
   ]
  },
  {
   "cell_type": "code",
   "execution_count": 72,
   "id": "ebd975f1",
   "metadata": {},
   "outputs": [],
   "source": [
    "# 웹 드라이버 불러오는 코드 수정버전:\n",
    "from selenium.webdriver.chrome.options import Options\n",
    "from selenium.webdriver.chrome.service import Service\n",
    "\n",
    "driver = webdriver.Chrome(options = Options(), service = Service('C:/Users/user/Documents/je-download/chromedriver_win32'))"
   ]
  },
  {
   "cell_type": "markdown",
   "id": "759c2e48",
   "metadata": {},
   "source": [
    "html = driver.get('https://news.naver.com/main/main.naver?mode=LSD&mid=shm&sid1=101')\n",
    "page = driver.page_source\n",
    "bs_obj =  BeautifulSoup(page,'html.parser')\n",
    "\n",
    "article_list = []\n",
    "article_list = bs_obj.find_all(\"li\", {'class':'sh_item _cluster_content'})\n",
    "\n",
    "article_list"
   ]
  },
  {
   "cell_type": "code",
   "execution_count": 73,
   "id": "fe6226f1",
   "metadata": {},
   "outputs": [
    {
     "data": {
      "text/plain": [
       "[<li class=\"press_news_item as_col\">\n",
       " <a class=\"press_news_link _es_pc_link\" data-pc-link=\"\" href=\"https://n.news.naver.com/article/648/0000017134?type=main\" onclick=\"nclk(event,'hom.head3p',648,1);\">\n",
       " <span class=\"press_news_thumb\">\n",
       " <span class=\"press_news_thumbinner\">\n",
       " <img alt=\"\" onerror=\"showNoImage(this)\" src=\"https://mimgnews.pstatic.net/image/origin/648/2023/06/16/17134.jpg?type=nf320_212&amp;ut=1686877321000\"/>\n",
       " </span>\n",
       " </span>\n",
       " <span class=\"press_news_text\">\n",
       " <strong>2차 하한가사태에 처음 꺼낸 '시장감시규정 12조' </strong>\n",
       " </span>\n",
       " </a>\n",
       " </li>,\n",
       " <li class=\"press_news_item as_col\">\n",
       " <a class=\"press_news_link _es_pc_link\" data-pc-link=\"\" href=\"https://n.news.naver.com/article/648/0000017137?type=main\" onclick=\"nclk(event,'hom.head3p',648,2);\">\n",
       " <span class=\"press_news_thumb\">\n",
       " <span class=\"press_news_thumbinner\">\n",
       " <img alt=\"\" onerror=\"showNoImage(this)\" src=\"https://mimgnews.pstatic.net/image/origin/648/2023/06/16/17137.jpg?type=nf320_212&amp;ut=1686880861000\"/>\n",
       " </span>\n",
       " </span>\n",
       " <span class=\"press_news_text\">\n",
       " <strong>KT알파, 전방위 확장전략 가동</strong>\n",
       " </span>\n",
       " </a>\n",
       " </li>,\n",
       " <li class=\"press_news_item\">\n",
       " <a class=\"press_news_link _es_pc_link\" data-pc-link=\"\" href=\"https://n.news.naver.com/article/648/0000017131?type=main\" onclick=\"nclk(event,'hom.head3t',648,1);\">\n",
       " <span class=\"press_news_text\"><strong>자사주 보유한도 제한…소각 유도 효과 있을까</strong></span>\n",
       " </a>\n",
       " </li>,\n",
       " <li class=\"press_news_item\">\n",
       " <a class=\"press_news_link _es_pc_link\" data-pc-link=\"\" href=\"https://n.news.naver.com/article/648/0000017129?type=main\" onclick=\"nclk(event,'hom.head3t',648,2);\">\n",
       " <span class=\"press_news_text\"><strong>\"아직은 미완\" 30대 나홀로족의 신세계 유니버스 탐방기</strong></span>\n",
       " </a>\n",
       " </li>,\n",
       " <li class=\"press_news_item\">\n",
       " <a class=\"press_news_link _es_pc_link\" data-pc-link=\"\" href=\"https://n.news.naver.com/article/648/0000017136?type=main\" onclick=\"nclk(event,'hom.head3t',648,3);\">\n",
       " <span class=\"press_news_text\"><strong>GM, 1년 만에 한국 수장 교체한다</strong></span>\n",
       " </a>\n",
       " </li>,\n",
       " <li class=\"press_news_item\">\n",
       " <a class=\"press_news_link _es_pc_link\" data-pc-link=\"\" href=\"https://n.news.naver.com/article/648/0000017127?type=main\" onclick=\"nclk(event,'hom.head3t',648,4);\">\n",
       " <span class=\"press_news_text\"><strong>DX 선도자가 밝힌 DX 성공법 \"끝없이 업데이트 하라\"</strong></span>\n",
       " </a>\n",
       " </li>,\n",
       " <li class=\"press_news_item as_row_small as_thumb\">\n",
       " <a class=\"press_news_link _es_pc_link\" data-pc-link=\"\" href=\"https://n.news.naver.com/article/648/0000017075\" onclick=\"nclk(event,'hom.cu5p',648,1);\">\n",
       " <span class=\"press_news_thumb\">\n",
       " <span class=\"press_news_thumbinner\">\n",
       " <img alt=\"\" data-src=\"https://mimgnews.pstatic.net/image/origin/648/2023/06/14/17075.jpg?type=nf212_140&amp;ut=1686725161000\" onerror=\"showNoImage(this)\" src=\"https://mimgnews.pstatic.net/image/origin/648/2023/06/14/17075.jpg?type=nf212_140&amp;ut=1686725161000\"/>\n",
       " </span>\n",
       " </span>\n",
       " <span class=\"press_news_text\">\n",
       " <strong>탄소중립 핵심수단 '수소경제'…재계 속도낸다</strong>\n",
       " <span class=\"press_news_datetime\">06월 14일 15:46</span>\n",
       " </span>\n",
       " </a>\n",
       " </li>,\n",
       " <li class=\"press_news_item as_row_small as_thumb\">\n",
       " <a class=\"press_news_link _es_pc_link\" data-pc-link=\"\" href=\"https://n.news.naver.com/article/648/0000017056\" onclick=\"nclk(event,'hom.cu5p',648,2);\">\n",
       " <span class=\"press_news_thumb\">\n",
       " <span class=\"press_news_thumbinner\">\n",
       " <img alt=\"\" data-src=\"https://mimgnews.pstatic.net/image/origin/648/2023/06/14/17056.jpg?type=nf212_140&amp;ut=1686696661000\" onerror=\"showNoImage(this)\" src=\"https://mimgnews.pstatic.net/image/origin/648/2023/06/14/17056.jpg?type=nf212_140&amp;ut=1686696661000\"/>\n",
       " </span>\n",
       " </span>\n",
       " <span class=\"press_news_text\">\n",
       " <strong>'고만고만하면 도태'…멤버십 '옥석 가리기' 시작됐다</strong>\n",
       " <span class=\"press_news_datetime\">06월 14일 07:51</span>\n",
       " </span>\n",
       " </a>\n",
       " </li>,\n",
       " <li class=\"press_news_item as_row_small as_thumb\">\n",
       " <a class=\"press_news_link _es_pc_link\" data-pc-link=\"\" href=\"https://n.news.naver.com/article/648/0000017051\" onclick=\"nclk(event,'hom.cu5p',648,3);\">\n",
       " <span class=\"press_news_thumb\">\n",
       " <span class=\"press_news_thumbinner\">\n",
       " <img alt=\"\" data-src=\"https://mimgnews.pstatic.net/image/origin/648/2023/06/14/17051.jpg?type=nf212_140&amp;ut=1686691861000\" onerror=\"showNoImage(this)\" src=\"https://mimgnews.pstatic.net/image/origin/648/2023/06/14/17051.jpg?type=nf212_140&amp;ut=1686691861000\"/>\n",
       " </span>\n",
       " </span>\n",
       " <span class=\"press_news_text\">\n",
       " <strong>강남아파트 경매낙찰자의 기대효과 3가지</strong>\n",
       " <span class=\"press_news_datetime\">06월 14일 06:31</span>\n",
       " </span>\n",
       " </a>\n",
       " </li>,\n",
       " <li class=\"press_news_item as_row_small as_thumb\">\n",
       " <a class=\"press_news_link _es_pc_link\" data-pc-link=\"\" href=\"https://n.news.naver.com/article/648/0000017050\" onclick=\"nclk(event,'hom.cu5p',648,4);\">\n",
       " <span class=\"press_news_thumb\">\n",
       " <span class=\"press_news_thumbinner\">\n",
       " <img alt=\"\" data-src=\"https://imgnews.pstatic.net/image/648/2023/06/14/0000017050_001_20230615123701572.jpg?type=nf212_140\" onerror=\"showNoImage(this)\" src=\"https://imgnews.pstatic.net/image/648/2023/06/14/0000017050_001_20230615123701572.jpg?type=nf212_140\"/>\n",
       " </span>\n",
       " </span>\n",
       " <span class=\"press_news_text\">\n",
       " <strong>[비즈人워치]배터리 권위자가 밝힌 K배터리 현주소는…</strong>\n",
       " <span class=\"press_news_datetime\">06월 14일 06:21</span>\n",
       " </span>\n",
       " </a>\n",
       " </li>]"
      ]
     },
     "execution_count": 73,
     "metadata": {},
     "output_type": "execute_result"
    }
   ],
   "source": [
    "html = driver.get('https://media.naver.com/press/648')\n",
    "page = driver.page_source\n",
    "bs_obj = BeautifulSoup(page, 'html.parser')\n",
    "\n",
    "article_list = []\n",
    "article_list = bs_obj.find_all('li', {'class': 'press_news_item'})\n",
    "article_list"
   ]
  },
  {
   "cell_type": "markdown",
   "id": "d0af560b",
   "metadata": {},
   "source": [
    "(방법 1) list로 만들어 pd.DataFrame()으로 표 전환 "
   ]
  },
  {
   "cell_type": "markdown",
   "id": "6cbba83d",
   "metadata": {},
   "source": [
    " <span class=\"press_news_text\">\n",
    " <strong>'고만고만하면 도태'…멤버십 '옥석 가리기' 시작됐다</strong>\n",
    " <span class=\"press_news_datetime\">06월 14일 07:51</span"
   ]
  },
  {
   "cell_type": "code",
   "execution_count": 78,
   "id": "232b7f0c",
   "metadata": {},
   "outputs": [
    {
     "data": {
      "text/plain": [
       "[\"2차 하한가사태에 처음 꺼낸 '시장감시규정 12조'\\xa0\",\n",
       " 'KT알파, 전방위 확장전략 가동',\n",
       " '자사주 보유한도 제한…소각 유도 효과 있을까',\n",
       " '\"아직은 미완\" 30대 나홀로족의 신세계 유니버스 탐방기',\n",
       " 'GM, 1년 만에 한국 수장 교체한다',\n",
       " 'DX 선도자가 밝힌 DX 성공법 \"끝없이 업데이트 하라\"',\n",
       " \"탄소중립 핵심수단 '수소경제'…재계 속도낸다\",\n",
       " \"'고만고만하면 도태'…멤버십 '옥석 가리기' 시작됐다\",\n",
       " '강남아파트 경매낙찰자의 기대효과 3가지',\n",
       " '[비즈人워치]배터리 권위자가 밝힌 K배터리 현주소는…']"
      ]
     },
     "execution_count": 78,
     "metadata": {},
     "output_type": "execute_result"
    }
   ],
   "source": [
    "news_title_list = []\n",
    "for i in article_list:\n",
    "    news_title_list.append(i.find('strong').text.replace('\\n',''))\n",
    "        \n",
    "news_title_list        "
   ]
  },
  {
   "cell_type": "code",
   "execution_count": 103,
   "id": "d4c5868e",
   "metadata": {},
   "outputs": [
    {
     "name": "stdout",
     "output_type": "stream",
     "text": [
      "06월 14일 15:46\n",
      "06월 14일 07:51\n",
      "06월 14일 06:31\n",
      "06월 14일 06:21\n",
      "Length of the list ->  4\n"
     ]
    },
    {
     "data": {
      "text/plain": [
       "['06월 14일 15:46', '06월 14일 07:51', '06월 14일 06:31', '06월 14일 06:21']"
      ]
     },
     "execution_count": 103,
     "metadata": {},
     "output_type": "execute_result"
    }
   ],
   "source": [
    "# <span class=\"press_news_text\">\n",
    "# <strong>'고만고만하면 도태'…멤버십 '옥석 가리기' 시작됐다</strong>\n",
    "# <span class=\"press_news_datetime\">06월 14일 07:51</span>\n",
    "# date \n",
    "\n",
    "news_date_list = []\n",
    "# for i in bs_obj.find_all('span', {'class':'press_news_datetime'}):\n",
    "for i in bs_obj.find_all('span',{'class': 'press_news_datetime'}):\n",
    "    print(i.text)\n",
    "    news_date_list.append(i.text)\n",
    "\n",
    "print('Length of the list -> ',len(news_date_list))\n",
    "news_date_list"
   ]
  },
  {
   "cell_type": "code",
   "execution_count": 34,
   "id": "5f3b996d",
   "metadata": {},
   "outputs": [
    {
     "data": {
      "text/plain": [
       "['https://n.news.naver.com/article/648/0000017131?type=main',\n",
       " 'https://n.news.naver.com/article/648/0000017129?type=journalists?type=main',\n",
       " 'https://n.news.naver.com/article/648/0000017127?type=main',\n",
       " 'https://n.news.naver.com/article/648/0000017125?type=main',\n",
       " 'https://n.news.naver.com/article/648/0000017124?type=main',\n",
       " 'https://n.news.naver.com/article/648/0000017130?type=main',\n",
       " 'https://n.news.naver.com/article/648/0000017075',\n",
       " 'https://n.news.naver.com/article/648/0000017056',\n",
       " 'https://n.news.naver.com/article/648/0000017051',\n",
       " 'https://n.news.naver.com/article/648/0000017050?type=journalists']"
      ]
     },
     "execution_count": 34,
     "metadata": {},
     "output_type": "execute_result"
    }
   ],
   "source": [
    "news_link_list = []\n",
    "for i in article_list:\n",
    "    news_link_list.append(i.select('a')[0].get('href'))\n",
    "        \n",
    "news_link_list"
   ]
  },
  {
   "cell_type": "code",
   "execution_count": null,
   "id": "1d3b0a61",
   "metadata": {},
   "outputs": [],
   "source": []
  },
  {
   "cell_type": "code",
   "execution_count": 76,
   "id": "8fa1b40f",
   "metadata": {},
   "outputs": [
    {
     "data": {
      "text/html": [
       "<div>\n",
       "<style scoped>\n",
       "    .dataframe tbody tr th:only-of-type {\n",
       "        vertical-align: middle;\n",
       "    }\n",
       "\n",
       "    .dataframe tbody tr th {\n",
       "        vertical-align: top;\n",
       "    }\n",
       "\n",
       "    .dataframe thead th {\n",
       "        text-align: right;\n",
       "    }\n",
       "</style>\n",
       "<table border=\"1\" class=\"dataframe\">\n",
       "  <thead>\n",
       "    <tr style=\"text-align: right;\">\n",
       "      <th></th>\n",
       "    </tr>\n",
       "  </thead>\n",
       "  <tbody>\n",
       "  </tbody>\n",
       "</table>\n",
       "</div>"
      ],
      "text/plain": [
       "Empty DataFrame\n",
       "Columns: []\n",
       "Index: []"
      ]
     },
     "execution_count": 76,
     "metadata": {},
     "output_type": "execute_result"
    }
   ],
   "source": [
    "# 빈 데이터 프레임 만들기\n",
    "\n",
    "df = pd.DataFrame()\n",
    "df"
   ]
  },
  {
   "cell_type": "code",
   "execution_count": 83,
   "id": "a62823eb",
   "metadata": {},
   "outputs": [
    {
     "data": {
      "text/html": [
       "<div>\n",
       "<style scoped>\n",
       "    .dataframe tbody tr th:only-of-type {\n",
       "        vertical-align: middle;\n",
       "    }\n",
       "\n",
       "    .dataframe tbody tr th {\n",
       "        vertical-align: top;\n",
       "    }\n",
       "\n",
       "    .dataframe thead th {\n",
       "        text-align: right;\n",
       "    }\n",
       "</style>\n",
       "<table border=\"1\" class=\"dataframe\">\n",
       "  <thead>\n",
       "    <tr style=\"text-align: right;\">\n",
       "      <th></th>\n",
       "      <th>head line</th>\n",
       "      <th>news link</th>\n",
       "    </tr>\n",
       "  </thead>\n",
       "  <tbody>\n",
       "    <tr>\n",
       "      <th>0</th>\n",
       "      <td>2차 하한가사태에 처음 꺼낸 '시장감시규정 12조'</td>\n",
       "      <td>https://n.news.naver.com/article/648/000001713...</td>\n",
       "    </tr>\n",
       "    <tr>\n",
       "      <th>1</th>\n",
       "      <td>KT알파, 전방위 확장전략 가동</td>\n",
       "      <td>https://n.news.naver.com/article/648/000001713...</td>\n",
       "    </tr>\n",
       "    <tr>\n",
       "      <th>2</th>\n",
       "      <td>자사주 보유한도 제한…소각 유도 효과 있을까</td>\n",
       "      <td>https://n.news.naver.com/article/648/000001713...</td>\n",
       "    </tr>\n",
       "    <tr>\n",
       "      <th>3</th>\n",
       "      <td>\"아직은 미완\" 30대 나홀로족의 신세계 유니버스 탐방기</td>\n",
       "      <td>https://n.news.naver.com/article/648/000001712...</td>\n",
       "    </tr>\n",
       "    <tr>\n",
       "      <th>4</th>\n",
       "      <td>GM, 1년 만에 한국 수장 교체한다</td>\n",
       "      <td>https://n.news.naver.com/article/648/000001713...</td>\n",
       "    </tr>\n",
       "    <tr>\n",
       "      <th>5</th>\n",
       "      <td>DX 선도자가 밝힌 DX 성공법 \"끝없이 업데이트 하라\"</td>\n",
       "      <td>https://n.news.naver.com/article/648/000001712...</td>\n",
       "    </tr>\n",
       "    <tr>\n",
       "      <th>6</th>\n",
       "      <td>탄소중립 핵심수단 '수소경제'…재계 속도낸다</td>\n",
       "      <td>https://n.news.naver.com/article/648/0000017075</td>\n",
       "    </tr>\n",
       "    <tr>\n",
       "      <th>7</th>\n",
       "      <td>'고만고만하면 도태'…멤버십 '옥석 가리기' 시작됐다</td>\n",
       "      <td>https://n.news.naver.com/article/648/0000017056</td>\n",
       "    </tr>\n",
       "    <tr>\n",
       "      <th>8</th>\n",
       "      <td>강남아파트 경매낙찰자의 기대효과 3가지</td>\n",
       "      <td>https://n.news.naver.com/article/648/0000017051</td>\n",
       "    </tr>\n",
       "    <tr>\n",
       "      <th>9</th>\n",
       "      <td>[비즈人워치]배터리 권위자가 밝힌 K배터리 현주소는…</td>\n",
       "      <td>https://n.news.naver.com/article/648/0000017050</td>\n",
       "    </tr>\n",
       "  </tbody>\n",
       "</table>\n",
       "</div>"
      ],
      "text/plain": [
       "                         head line  \\\n",
       "0    2차 하한가사태에 처음 꺼낸 '시장감시규정 12조'    \n",
       "1                KT알파, 전방위 확장전략 가동   \n",
       "2         자사주 보유한도 제한…소각 유도 효과 있을까   \n",
       "3  \"아직은 미완\" 30대 나홀로족의 신세계 유니버스 탐방기   \n",
       "4             GM, 1년 만에 한국 수장 교체한다   \n",
       "5  DX 선도자가 밝힌 DX 성공법 \"끝없이 업데이트 하라\"   \n",
       "6         탄소중립 핵심수단 '수소경제'…재계 속도낸다   \n",
       "7    '고만고만하면 도태'…멤버십 '옥석 가리기' 시작됐다   \n",
       "8            강남아파트 경매낙찰자의 기대효과 3가지   \n",
       "9    [비즈人워치]배터리 권위자가 밝힌 K배터리 현주소는…   \n",
       "\n",
       "                                           news link  \n",
       "0  https://n.news.naver.com/article/648/000001713...  \n",
       "1  https://n.news.naver.com/article/648/000001713...  \n",
       "2  https://n.news.naver.com/article/648/000001713...  \n",
       "3  https://n.news.naver.com/article/648/000001712...  \n",
       "4  https://n.news.naver.com/article/648/000001713...  \n",
       "5  https://n.news.naver.com/article/648/000001712...  \n",
       "6    https://n.news.naver.com/article/648/0000017075  \n",
       "7    https://n.news.naver.com/article/648/0000017056  \n",
       "8    https://n.news.naver.com/article/648/0000017051  \n",
       "9    https://n.news.naver.com/article/648/0000017050  "
      ]
     },
     "execution_count": 83,
     "metadata": {},
     "output_type": "execute_result"
    }
   ],
   "source": [
    "# 리스트를 만들고 이를 데이터 프레임으로 전환 \n",
    "\n",
    "news_headline_list = []\n",
    "news_link_list = []\n",
    "\n",
    "for i in article_list:\n",
    "    news_headline_list.append(i.select('strong')[0].text.replace('\\n',''))\n",
    "    news_link_list.append(i.select('a')[0].get('href'))\n",
    "    \n",
    "df = pd.DataFrame({'head line':news_headline_list, 'news link':news_link_list})\n",
    "df    "
   ]
  },
  {
   "cell_type": "markdown",
   "id": "c30cd19d",
   "metadata": {},
   "source": [
    "(방법2) 시리즈로 데이터 프레임 만들기 "
   ]
  },
  {
   "cell_type": "markdown",
   "id": "af9eb8c8",
   "metadata": {},
   "source": [
    "#열 헤더 리스트를 시리즈로 변환\n",
    "header = ['제목','미리보기','링크']\n",
    "row1 = pd.Series(header)\n",
    "\n",
    "#빈 데이터 프레임에 열 헤더 설정\n",
    "df = pd.DataFrame(columns=row1)\n",
    "\n",
    "#시리즈에 열 헤더 붙일때 사용하기 위해서 열 헤더 따로 빼놓기\n",
    "col = df.columns\n"
   ]
  },
  {
   "cell_type": "code",
   "execution_count": 89,
   "id": "6c5222c6",
   "metadata": {},
   "outputs": [],
   "source": [
    "header = ['headline', 'link']\n",
    "row1 = pd.Series(header)\n",
    "df = pd.DataFrame(columns = row1)\n",
    "col = df.columns"
   ]
  },
  {
   "cell_type": "markdown",
   "id": "04065636",
   "metadata": {},
   "source": [
    "arr = []\n",
    "for article in bs_obj.find_all(\"div\", {\"class\":\"sh_text\"}):\n",
    "    row = pd.Series([article.select('a')[0].text,article.select_one(\"div.sh_text_lede\").text,\n",
    "                    article.select('a')[0].get('href')], index=col)\n",
    "    df = df.append(row, ignore_index=True)\n"
   ]
  },
  {
   "cell_type": "code",
   "execution_count": 90,
   "id": "980af703",
   "metadata": {},
   "outputs": [
    {
     "data": {
      "text/html": [
       "<div>\n",
       "<style scoped>\n",
       "    .dataframe tbody tr th:only-of-type {\n",
       "        vertical-align: middle;\n",
       "    }\n",
       "\n",
       "    .dataframe tbody tr th {\n",
       "        vertical-align: top;\n",
       "    }\n",
       "\n",
       "    .dataframe thead th {\n",
       "        text-align: right;\n",
       "    }\n",
       "</style>\n",
       "<table border=\"1\" class=\"dataframe\">\n",
       "  <thead>\n",
       "    <tr style=\"text-align: right;\">\n",
       "      <th></th>\n",
       "      <th>headline</th>\n",
       "      <th>link</th>\n",
       "    </tr>\n",
       "  </thead>\n",
       "  <tbody>\n",
       "  </tbody>\n",
       "</table>\n",
       "</div>"
      ],
      "text/plain": [
       "Empty DataFrame\n",
       "Columns: [headline, link]\n",
       "Index: []"
      ]
     },
     "execution_count": 90,
     "metadata": {},
     "output_type": "execute_result"
    }
   ],
   "source": [
    "# 앞에서 만든 df 비우기\n",
    "\n",
    "df.drop(df.index, inplace=True)\n",
    "df"
   ]
  },
  {
   "cell_type": "code",
   "execution_count": 91,
   "id": "7caa3f28",
   "metadata": {},
   "outputs": [
    {
     "data": {
      "text/html": [
       "<div>\n",
       "<style scoped>\n",
       "    .dataframe tbody tr th:only-of-type {\n",
       "        vertical-align: middle;\n",
       "    }\n",
       "\n",
       "    .dataframe tbody tr th {\n",
       "        vertical-align: top;\n",
       "    }\n",
       "\n",
       "    .dataframe thead th {\n",
       "        text-align: right;\n",
       "    }\n",
       "</style>\n",
       "<table border=\"1\" class=\"dataframe\">\n",
       "  <thead>\n",
       "    <tr style=\"text-align: right;\">\n",
       "      <th></th>\n",
       "      <th>headline</th>\n",
       "      <th>link</th>\n",
       "    </tr>\n",
       "  </thead>\n",
       "  <tbody>\n",
       "    <tr>\n",
       "      <th>0</th>\n",
       "      <td>2차 하한가사태에 처음 꺼낸 '시장감시규정 12조'</td>\n",
       "      <td>https://n.news.naver.com/article/648/000001713...</td>\n",
       "    </tr>\n",
       "    <tr>\n",
       "      <th>1</th>\n",
       "      <td>KT알파, 전방위 확장전략 가동</td>\n",
       "      <td>https://n.news.naver.com/article/648/000001713...</td>\n",
       "    </tr>\n",
       "    <tr>\n",
       "      <th>2</th>\n",
       "      <td>자사주 보유한도 제한…소각 유도 효과 있을까</td>\n",
       "      <td>https://n.news.naver.com/article/648/000001713...</td>\n",
       "    </tr>\n",
       "    <tr>\n",
       "      <th>3</th>\n",
       "      <td>\"아직은 미완\" 30대 나홀로족의 신세계 유니버스 탐방기</td>\n",
       "      <td>https://n.news.naver.com/article/648/000001712...</td>\n",
       "    </tr>\n",
       "    <tr>\n",
       "      <th>4</th>\n",
       "      <td>GM, 1년 만에 한국 수장 교체한다</td>\n",
       "      <td>https://n.news.naver.com/article/648/000001713...</td>\n",
       "    </tr>\n",
       "    <tr>\n",
       "      <th>5</th>\n",
       "      <td>DX 선도자가 밝힌 DX 성공법 \"끝없이 업데이트 하라\"</td>\n",
       "      <td>https://n.news.naver.com/article/648/000001712...</td>\n",
       "    </tr>\n",
       "    <tr>\n",
       "      <th>6</th>\n",
       "      <td>탄소중립 핵심수단 '수소경제'…재계 속도낸다</td>\n",
       "      <td>https://n.news.naver.com/article/648/0000017075</td>\n",
       "    </tr>\n",
       "    <tr>\n",
       "      <th>7</th>\n",
       "      <td>'고만고만하면 도태'…멤버십 '옥석 가리기' 시작됐다</td>\n",
       "      <td>https://n.news.naver.com/article/648/0000017056</td>\n",
       "    </tr>\n",
       "    <tr>\n",
       "      <th>8</th>\n",
       "      <td>강남아파트 경매낙찰자의 기대효과 3가지</td>\n",
       "      <td>https://n.news.naver.com/article/648/0000017051</td>\n",
       "    </tr>\n",
       "    <tr>\n",
       "      <th>9</th>\n",
       "      <td>[비즈人워치]배터리 권위자가 밝힌 K배터리 현주소는…</td>\n",
       "      <td>https://n.news.naver.com/article/648/0000017050</td>\n",
       "    </tr>\n",
       "  </tbody>\n",
       "</table>\n",
       "</div>"
      ],
      "text/plain": [
       "                          headline  \\\n",
       "0    2차 하한가사태에 처음 꺼낸 '시장감시규정 12조'    \n",
       "1                KT알파, 전방위 확장전략 가동   \n",
       "2         자사주 보유한도 제한…소각 유도 효과 있을까   \n",
       "3  \"아직은 미완\" 30대 나홀로족의 신세계 유니버스 탐방기   \n",
       "4             GM, 1년 만에 한국 수장 교체한다   \n",
       "5  DX 선도자가 밝힌 DX 성공법 \"끝없이 업데이트 하라\"   \n",
       "6         탄소중립 핵심수단 '수소경제'…재계 속도낸다   \n",
       "7    '고만고만하면 도태'…멤버십 '옥석 가리기' 시작됐다   \n",
       "8            강남아파트 경매낙찰자의 기대효과 3가지   \n",
       "9    [비즈人워치]배터리 권위자가 밝힌 K배터리 현주소는…   \n",
       "\n",
       "                                                link  \n",
       "0  https://n.news.naver.com/article/648/000001713...  \n",
       "1  https://n.news.naver.com/article/648/000001713...  \n",
       "2  https://n.news.naver.com/article/648/000001713...  \n",
       "3  https://n.news.naver.com/article/648/000001712...  \n",
       "4  https://n.news.naver.com/article/648/000001713...  \n",
       "5  https://n.news.naver.com/article/648/000001712...  \n",
       "6    https://n.news.naver.com/article/648/0000017075  \n",
       "7    https://n.news.naver.com/article/648/0000017056  \n",
       "8    https://n.news.naver.com/article/648/0000017051  \n",
       "9    https://n.news.naver.com/article/648/0000017050  "
      ]
     },
     "execution_count": 91,
     "metadata": {},
     "output_type": "execute_result"
    }
   ],
   "source": [
    "arr = []\n",
    "\n",
    "for article in bs_obj.find_all('li', {'class': 'press_news_item'}):\n",
    "    #print(article.find(\"strong\").text)\n",
    "    # row = pd.Series([article.find(\"strong\").text, article.select_one('a').get('href')], index = col)\n",
    "    dataframe1 = df.append(row, ignore_index = True)\n",
    "    row = pd.Series([article.find('strong').text.replace('\\n',''), article.select_one('a').get('href')], index = col)\n",
    "    df = df.append(row, ignore_index = True)\n",
    "                               \n",
    "df"
   ]
  },
  {
   "cell_type": "code",
   "execution_count": null,
   "id": "90bd97ef",
   "metadata": {},
   "outputs": [],
   "source": [
    "# fin"
   ]
  }
 ],
 "metadata": {
  "kernelspec": {
   "display_name": "Python 3",
   "language": "python",
   "name": "python3"
  },
  "language_info": {
   "codemirror_mode": {
    "name": "ipython",
    "version": 3
   },
   "file_extension": ".py",
   "mimetype": "text/x-python",
   "name": "python",
   "nbconvert_exporter": "python",
   "pygments_lexer": "ipython3",
   "version": "3.8.8"
  }
 },
 "nbformat": 4,
 "nbformat_minor": 5
}
